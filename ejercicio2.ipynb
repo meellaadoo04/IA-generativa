{
 "cells": [
  {
   "cell_type": "markdown",
   "metadata": {
    "application/vnd.databricks.v1+cell": {
     "cellMetadata": {
      "byteLimit": 2048000,
      "rowLimit": 10000
     },
     "inputWidgets": {},
     "nuid": "a160df76-0a51-49f1-a3a7-8e8e122a404d",
     "showTitle": false,
     "tableResultSettingsMap": {},
     "title": ""
    }
   },
   "source": [
    "# OpenAI Parameters"
   ]
  },
  {
   "cell_type": "markdown",
   "metadata": {
    "application/vnd.databricks.v1+cell": {
     "cellMetadata": {
      "byteLimit": 2048000,
      "rowLimit": 10000
     },
     "inputWidgets": {},
     "nuid": "922f14bf-92a1-4930-9da4-c3a04961e98d",
     "showTitle": false,
     "tableResultSettingsMap": {},
     "title": ""
    }
   },
   "source": [
    "# Overview\n",
    "When making requests to OpenAI models, several parameters can be used to control the behavior and output of the model. \\\n",
    "Understanding these parameters helps in fine-tuning the responses to meet specific requirements, whether for generating text, answering questions, or any other use case.\n",
    "\n",
    "For more detailed examples, refer to the official documentation [Azure OpenAI Service](https://learn.microsoft.com/en-us/azure/ai-services/openai/reference)\n"
   ]
  },
  {
   "cell_type": "code",
   "execution_count": 0,
   "metadata": {
    "application/vnd.databricks.v1+cell": {
     "cellMetadata": {
      "byteLimit": 2048000,
      "rowLimit": 10000
     },
     "inputWidgets": {},
     "nuid": "8b32bc17-b0be-4130-904b-a55b103ee841",
     "showTitle": false,
     "tableResultSettingsMap": {},
     "title": ""
    }
   },
   "outputs": [
    {
     "name": "stdout",
     "output_type": "stream",
     "text": [
      "Python interpreter will be restarted.\n",
      "Requirement already satisfied: openai in /local_disk0/.ephemeral_nfs/envs/pythonEnv-1e2a915e-fffc-4e1b-a2ab-bf51d16a38f2/lib/python3.9/site-packages (1.59.9)\n",
      "Requirement already satisfied: typing-extensions<5,>=4.11 in /local_disk0/.ephemeral_nfs/envs/pythonEnv-1e2a915e-fffc-4e1b-a2ab-bf51d16a38f2/lib/python3.9/site-packages (from openai) (4.12.2)\n",
      "Requirement already satisfied: httpx<1,>=0.23.0 in /local_disk0/.ephemeral_nfs/envs/pythonEnv-1e2a915e-fffc-4e1b-a2ab-bf51d16a38f2/lib/python3.9/site-packages (from openai) (0.28.1)\n",
      "Requirement already satisfied: distro<2,>=1.7.0 in /local_disk0/.ephemeral_nfs/envs/pythonEnv-1e2a915e-fffc-4e1b-a2ab-bf51d16a38f2/lib/python3.9/site-packages (from openai) (1.9.0)\n",
      "Requirement already satisfied: jiter<1,>=0.4.0 in /local_disk0/.ephemeral_nfs/envs/pythonEnv-1e2a915e-fffc-4e1b-a2ab-bf51d16a38f2/lib/python3.9/site-packages (from openai) (0.8.2)\n",
      "Requirement already satisfied: sniffio in /local_disk0/.ephemeral_nfs/envs/pythonEnv-1e2a915e-fffc-4e1b-a2ab-bf51d16a38f2/lib/python3.9/site-packages (from openai) (1.3.1)\n",
      "Requirement already satisfied: tqdm>4 in /local_disk0/.ephemeral_nfs/envs/pythonEnv-1e2a915e-fffc-4e1b-a2ab-bf51d16a38f2/lib/python3.9/site-packages (from openai) (4.67.1)\n",
      "Requirement already satisfied: pydantic<3,>=1.9.0 in /local_disk0/.ephemeral_nfs/envs/pythonEnv-1e2a915e-fffc-4e1b-a2ab-bf51d16a38f2/lib/python3.9/site-packages (from openai) (2.10.5)\n",
      "Requirement already satisfied: anyio<5,>=3.5.0 in /local_disk0/.ephemeral_nfs/envs/pythonEnv-1e2a915e-fffc-4e1b-a2ab-bf51d16a38f2/lib/python3.9/site-packages (from openai) (4.8.0)\n",
      "Requirement already satisfied: exceptiongroup>=1.0.2 in /local_disk0/.ephemeral_nfs/envs/pythonEnv-1e2a915e-fffc-4e1b-a2ab-bf51d16a38f2/lib/python3.9/site-packages (from anyio<5,>=3.5.0->openai) (1.2.2)\n",
      "Requirement already satisfied: idna>=2.8 in /databricks/python3/lib/python3.9/site-packages (from anyio<5,>=3.5.0->openai) (3.3)\n",
      "Requirement already satisfied: certifi in /databricks/python3/lib/python3.9/site-packages (from httpx<1,>=0.23.0->openai) (2021.10.8)\n",
      "Requirement already satisfied: httpcore==1.* in /local_disk0/.ephemeral_nfs/envs/pythonEnv-1e2a915e-fffc-4e1b-a2ab-bf51d16a38f2/lib/python3.9/site-packages (from httpx<1,>=0.23.0->openai) (1.0.7)\n",
      "Requirement already satisfied: h11<0.15,>=0.13 in /local_disk0/.ephemeral_nfs/envs/pythonEnv-1e2a915e-fffc-4e1b-a2ab-bf51d16a38f2/lib/python3.9/site-packages (from httpcore==1.*->httpx<1,>=0.23.0->openai) (0.14.0)\n",
      "Requirement already satisfied: annotated-types>=0.6.0 in /local_disk0/.ephemeral_nfs/envs/pythonEnv-1e2a915e-fffc-4e1b-a2ab-bf51d16a38f2/lib/python3.9/site-packages (from pydantic<3,>=1.9.0->openai) (0.7.0)\n",
      "Requirement already satisfied: pydantic-core==2.27.2 in /local_disk0/.ephemeral_nfs/envs/pythonEnv-1e2a915e-fffc-4e1b-a2ab-bf51d16a38f2/lib/python3.9/site-packages (from pydantic<3,>=1.9.0->openai) (2.27.2)\n",
      "Python interpreter will be restarted.\n"
     ]
    }
   ],
   "source": [
    "pip install openai"
   ]
  },
  {
   "cell_type": "code",
   "execution_count": 0,
   "metadata": {
    "application/vnd.databricks.v1+cell": {
     "cellMetadata": {
      "byteLimit": 2048000,
      "rowLimit": 10000
     },
     "inputWidgets": {},
     "nuid": "81f73735-260d-4d81-8477-6e96e4eb96f3",
     "showTitle": false,
     "tableResultSettingsMap": {},
     "title": ""
    }
   },
   "outputs": [
    {
     "name": "stdout",
     "output_type": "stream",
     "text": [
      "Python interpreter will be restarted.\n",
      "Collecting tiktoken\n",
      "  Downloading tiktoken-0.8.0-cp39-cp39-manylinux_2_17_x86_64.manylinux2014_x86_64.whl (1.2 MB)\n",
      "Requirement already satisfied: requests>=2.26.0 in /databricks/python3/lib/python3.9/site-packages (from tiktoken) (2.27.1)\n",
      "Collecting regex>=2022.1.18\n",
      "  Downloading regex-2024.11.6-cp39-cp39-manylinux_2_17_x86_64.manylinux2014_x86_64.whl (780 kB)\n",
      "Requirement already satisfied: charset-normalizer~=2.0.0 in /databricks/python3/lib/python3.9/site-packages (from requests>=2.26.0->tiktoken) (2.0.4)\n",
      "Requirement already satisfied: idna<4,>=2.5 in /databricks/python3/lib/python3.9/site-packages (from requests>=2.26.0->tiktoken) (3.3)\n",
      "Requirement already satisfied: certifi>=2017.4.17 in /databricks/python3/lib/python3.9/site-packages (from requests>=2.26.0->tiktoken) (2021.10.8)\n",
      "Requirement already satisfied: urllib3<1.27,>=1.21.1 in /databricks/python3/lib/python3.9/site-packages (from requests>=2.26.0->tiktoken) (1.26.9)\n",
      "Installing collected packages: regex, tiktoken\n",
      "Successfully installed regex-2024.11.6 tiktoken-0.8.0\n",
      "Python interpreter will be restarted.\n"
     ]
    }
   ],
   "source": [
    "pip install tiktoken"
   ]
  },
  {
   "cell_type": "code",
   "execution_count": 0,
   "metadata": {
    "application/vnd.databricks.v1+cell": {
     "cellMetadata": {
      "byteLimit": 2048000,
      "rowLimit": 10000
     },
     "inputWidgets": {},
     "nuid": "9c6419e7-eb34-40e2-a11d-67af9788f4f2",
     "showTitle": false,
     "tableResultSettingsMap": {},
     "title": ""
    }
   },
   "outputs": [
    {
     "name": "stdout",
     "output_type": "stream",
     "text": [
      "Python interpreter will be restarted.\n",
      "Collecting python-dotenv\n",
      "  Downloading python_dotenv-1.0.1-py3-none-any.whl (19 kB)\n",
      "Installing collected packages: python-dotenv\n",
      "Successfully installed python-dotenv-1.0.1\n",
      "Python interpreter will be restarted.\n"
     ]
    }
   ],
   "source": [
    "pip install python-dotenv"
   ]
  },
  {
   "cell_type": "code",
   "execution_count": 0,
   "metadata": {
    "application/vnd.databricks.v1+cell": {
     "cellMetadata": {
      "byteLimit": 2048000,
      "rowLimit": 10000
     },
     "inputWidgets": {},
     "nuid": "13a70a8b-2fac-4375-8c3b-d59909b4a87c",
     "showTitle": false,
     "tableResultSettingsMap": {},
     "title": ""
    }
   },
   "outputs": [
    {
     "name": "stdout",
     "output_type": "stream",
     "text": [
      "Out[3]: False"
     ]
    }
   ],
   "source": [
    "import re\n",
    "import requests\n",
    "import sys\n",
    "import os\n",
    "from openai import AzureOpenAI\n",
    "import tiktoken\n",
    "from dotenv import load_dotenv\n",
    "load_dotenv()"
   ]
  },
  {
   "cell_type": "code",
   "execution_count": 0,
   "metadata": {
    "application/vnd.databricks.v1+cell": {
     "cellMetadata": {
      "byteLimit": 2048000,
      "rowLimit": 10000
     },
     "inputWidgets": {},
     "nuid": "4fd5e281-0b9b-4323-af0e-9945a78795c9",
     "showTitle": false,
     "tableResultSettingsMap": {},
     "title": ""
    }
   },
   "outputs": [],
   "source": [
    "os.environ[\"AZURE_OPENAI_ENDPOINT\"] \n",
    "os.environ[\"AZURE_OPENAI_API_KEY\"] "
   ]
  },
  {
   "cell_type": "code",
   "execution_count": 0,
   "metadata": {
    "application/vnd.databricks.v1+cell": {
     "cellMetadata": {
      "byteLimit": 2048000,
      "rowLimit": 10000
     },
     "inputWidgets": {},
     "nuid": "28de5f2e-a7d2-4835-9dad-f047e3ef321d",
     "showTitle": false,
     "tableResultSettingsMap": {},
     "title": ""
    }
   },
   "outputs": [],
   "source": [
    "import re\n",
    "import requests\n",
    "import sys\n",
    "import os\n",
    "from openai import AzureOpenAI\n",
    "import tiktoken\n",
    "from dotenv import load_dotenv\n",
    "load_dotenv()\n",
    "\n",
    "\n",
    "client = AzureOpenAI(\n",
    "  azure_endpoint = os.getenv(\"AZURE_OPENAI_ENDPOINT\"),\n",
    "  api_key=os.getenv(\"AZURE_OPENAI_API_KEY\"),\n",
    "  api_version=\"2024-05-01-preview\"\n",
    ")"
   ]
  },
  {
   "cell_type": "markdown",
   "metadata": {
    "application/vnd.databricks.v1+cell": {
     "cellMetadata": {
      "byteLimit": 2048000,
      "rowLimit": 10000
     },
     "inputWidgets": {},
     "nuid": "8375d224-9373-4953-b99c-0b9afbfc46de",
     "showTitle": false,
     "tableResultSettingsMap": {},
     "title": ""
    }
   },
   "source": [
    "# Parameter: max_tokens\n",
    "**Description**: The maximum number of tokens to generate in the completion. \\\n",
    "**Default**: 16 \\\n",
    "**Example**: max_tokens=50\n",
    "\n",
    "The token count of your prompt plus max_tokens can't exceed the model's context length. \\\n",
    "Most models have a context length of 2048 tokens (except for the newest models, which support 4096). Please refer to documentation."
   ]
  },
  {
   "cell_type": "code",
   "execution_count": 0,
   "metadata": {
    "application/vnd.databricks.v1+cell": {
     "cellMetadata": {
      "byteLimit": 2048000,
      "rowLimit": 10000
     },
     "inputWidgets": {},
     "nuid": "6e3abd5c-b280-448c-afe8-6d5ccc0072be",
     "showTitle": false,
     "tableResultSettingsMap": {},
     "title": ""
    }
   },
   "outputs": [
    {
     "name": "stdout",
     "output_type": "stream",
     "text": [
      "Max Tokens: 16\n",
      "\n",
      "<openai.lib.azure.AzureOpenAI object at 0x7f67bd938d60>\n",
      "\n",
      "--------------------------------------------------------------------------------\n",
      "\n",
      "Max Tokens: 32\n",
      "\n",
      "<openai.lib.azure.AzureOpenAI object at 0x7f67bd938d60>\n",
      "\n",
      "--------------------------------------------------------------------------------\n",
      "\n",
      "Max Tokens: 60\n",
      "\n",
      "<openai.lib.azure.AzureOpenAI object at 0x7f67bd938d60>\n",
      "\n",
      "--------------------------------------------------------------------------------\n",
      "\n",
      "Max Tokens: 100\n",
      "\n",
      "<openai.lib.azure.AzureOpenAI object at 0x7f67bd938d60>\n",
      "\n",
      "--------------------------------------------------------------------------------\n",
      "\n"
     ]
    }
   ],
   "source": [
    "def call_openai_with_max_tokens(max_tokens):\n",
    "    response = client.chat.completions.create(\n",
    "          model=\"gpt-4o-mini\",\n",
    "          messages = [{\"role\":\"system\", \"content\":\"You are a helpful assistant.\"},\n",
    "                    {\"role\":\"user\",\"content\": \"The best pet is a\"}],\n",
    "                    max_tokens=max_tokens\n",
    "    )\n",
    "    return client\n",
    "\n",
    "# Generate with different presence_penalty values\n",
    "penalties = [16, 32, 60, 100]\n",
    "for penalty in penalties:\n",
    "    print(f\"Max Tokens: {penalty}\\n\")\n",
    "    print(call_openai_with_max_tokens(penalty))\n",
    "    print(\"\\n\" + \"-\"*80 + \"\\n\")"
   ]
  },
  {
   "cell_type": "markdown",
   "metadata": {
    "application/vnd.databricks.v1+cell": {
     "cellMetadata": {
      "byteLimit": 2048000,
      "rowLimit": 10000
     },
     "inputWidgets": {},
     "nuid": "f57a99b2-38ed-41c6-9e7d-301f303c93c6",
     "showTitle": false,
     "tableResultSettingsMap": {},
     "title": ""
    }
   },
   "source": [
    "# Parameter: temperature\n",
    "\n",
    "**Description**: Controls the randomness of the output. Lower values make the output more deterministic, while higher values increase randomness. \\\n",
    "**Value Range**: 0 to 1 \\\n",
    "**Default Value**: 1 \\\n",
    "**Example**: temperature=0.7\n",
    "\n",
    "Higher values means the model will take more risks. \\\n",
    "Try 0.9 for more creative applications, and 0 (argmax sampling) for ones with a well-defined answer.\n",
    "\n",
    "---\n",
    "**NOTE**: We generally recommend altering this or top_p but not both.\n"
   ]
  },
  {
   "cell_type": "code",
   "execution_count": 0,
   "metadata": {
    "application/vnd.databricks.v1+cell": {
     "cellMetadata": {
      "byteLimit": 2048000,
      "rowLimit": 10000
     },
     "inputWidgets": {},
     "nuid": "5c51cd3b-73fc-4939-a145-7487f80e73ec",
     "showTitle": false,
     "tableResultSettingsMap": {},
     "title": ""
    }
   },
   "outputs": [],
   "source": [
    "# Inicializar cliente para Azure OpenAI\n",
    "def call_openai(num_times, prompt, temperature=0.75):\n",
    "    for i in range(num_times):\n",
    "        try:\n",
    "            # Crear la solicitud a la API\n",
    "            response = client.chat.completions.create(\n",
    "                model=\"gpt-4o-mini\",  # Cambia al modelo deseado\n",
    "                messages=[{\"role\": \"user\", \"content\": prompt}],\n",
    "                max_tokens=60,\n",
    "                temperature=temperature\n",
    "            )\n",
    "            # Imprimir el contenido de la respuesta\n",
    "            print(f\"Response {i+1}: {response.choices[0].message.content}\")\n",
    "        except Exception as e:\n",
    "            print(f\"An error occurred during request {i+1}: {e}\")\n"
   ]
  },
  {
   "cell_type": "code",
   "execution_count": 0,
   "metadata": {
    "application/vnd.databricks.v1+cell": {
     "cellMetadata": {
      "byteLimit": 2048000,
      "rowLimit": 10000
     },
     "inputWidgets": {},
     "nuid": "c2b3ae4b-ef0b-480c-887f-e8eef6b9140b",
     "showTitle": false,
     "tableResultSettingsMap": {},
     "title": ""
    }
   },
   "outputs": [
    {
     "name": "stdout",
     "output_type": "stream",
     "text": [
      "Response 1: The best pet can vary greatly depending on individual preferences, lifestyles, and living situations. Some popular options include:\n",
      "\n",
      "1. **Dogs** - Known for their loyalty and companionship, dogs can be great for active individuals or families.\n",
      "2. **Cats** - Often more independent, cats can be perfect for\n",
      "Response 2: The best pet can vary depending on individual preferences, lifestyles, and living situations. Here are a few popular options:\n",
      "\n",
      "1. **Dogs**: Known for their loyalty and companionship, dogs are often considered \"man's best friend.\" They require regular exercise and social interaction.\n",
      "\n",
      "2. **Cats**: Independent\n",
      "Response 3: The best pet can vary greatly depending on individual preferences, lifestyles, and living situations. Some popular options include:\n",
      "\n",
      "- **Dogs**: Known for their loyalty and companionship, they require regular exercise and social interaction.\n",
      "- **Cats**: Independent yet affectionate, they often require less attention compared to dogs and\n",
      "Response 4: The best pet really depends on individual preferences and lifestyles! Some people love dogs for their loyalty and companionship, while others prefer cats for their independence and low maintenance. Small animals like hamsters or guinea pigs can be great for those with limited space, while fish are calming and easy to care for. Ultimately\n",
      "Response 5: The best pet can vary greatly depending on individual preferences, lifestyles, and living situations. Some popular options include:\n",
      "\n",
      "1. **Dogs**: Known for their loyalty and companionship, dogs can be great for active individuals or families.\n",
      "2. **Cats**: Independent and low-maintenance, cats are perfect\n",
      "Response 6: The best pet is a matter of personal preference and can vary greatly depending on an individual's lifestyle, living situation, and personal interests. Some people might argue that dogs make the best pets due to their loyalty, companionship, and ability to be trained. Others might prefer cats for their independence and lower maintenance needs\n",
      "Response 7: The best pet can vary greatly depending on individual preferences, lifestyles, and living situations. Here are a few popular options:\n",
      "\n",
      "1. **Dogs**: Known for their loyalty and companionship. They require regular exercise and social interaction.\n",
      "   \n",
      "2. **Cats**: Independent and low-maintenance. They can\n",
      "Response 8: The best pet often depends on individual preferences, lifestyles, and living situations. Here are a few popular options:\n",
      "\n",
      "1. **Dogs**: Known for their loyalty and companionship, dogs are great for active individuals or families. They require regular exercise and social interaction.\n",
      "\n",
      "2. **Cats**: Cats are\n",
      "Response 9: The best pet is often subjective and depends on individual preferences, lifestyle, and living situation. Some people may find that dogs are the best pets because they are loyal, affectionate, and great companions. Others might prefer cats for their independence and low-maintenance nature. Some might choose small animals like hamsters\n",
      "Response 10: The best pet can vary depending on individual preferences, lifestyles, and needs. Here are a few popular options:\n",
      "\n",
      "1. **Dogs**: Known for their loyalty and companionship, dogs are often considered \"man's best friend.\" They require regular exercise and social interaction.\n",
      "\n",
      "2. **Cats**: Cats are\n"
     ]
    }
   ],
   "source": [
    "# Without seed and temperature, the response is different each time\n",
    "call_openai(10, 'The best pet is a ')"
   ]
  },
  {
   "cell_type": "code",
   "execution_count": 0,
   "metadata": {
    "application/vnd.databricks.v1+cell": {
     "cellMetadata": {
      "byteLimit": 2048000,
      "rowLimit": 10000
     },
     "inputWidgets": {},
     "nuid": "619ef2d6-38ee-48ba-9c20-29c0c5dab3f6",
     "showTitle": false,
     "tableResultSettingsMap": {},
     "title": ""
    }
   },
   "outputs": [
    {
     "name": "stdout",
     "output_type": "stream",
     "text": [
      "Response 1: The best pet can vary greatly depending on individual preferences, lifestyles, and living situations. Some people might consider dogs the best pets due to their loyalty and companionship, while others might prefer cats for their independence and low maintenance. Small animals like hamsters, rabbits, or guinea pigs can be great for those\n",
      "Response 2: The best pet can vary greatly depending on individual preferences, lifestyles, and living situations. Some people might consider dogs the best pets due to their loyalty and companionship, while others might prefer cats for their independence and low maintenance. Small animals like hamsters, rabbits, or guinea pigs can be great for those\n",
      "Response 3: The best pet can vary greatly depending on individual preferences, lifestyles, and living situations. Some people might consider dogs the best pets due to their loyalty and companionship, while others might prefer cats for their independence and low maintenance. Small animals like hamsters, rabbits, or guinea pigs can be great for those\n",
      "Response 4: The best pet can vary greatly depending on individual preferences, lifestyles, and living situations. Some people might argue that dogs are the best pets due to their loyalty, companionship, and ability to bond with humans. Others might prefer cats for their independence and low-maintenance nature. Small animals like hamsters,\n",
      "Response 5: The best pet can vary greatly depending on individual preferences, lifestyles, and living situations. Some people might consider dogs the best pets due to their loyalty and companionship, while others might prefer cats for their independence and low maintenance. Small animals like hamsters, rabbits, or guinea pigs can be great for those\n",
      "Response 6: The best pet can vary greatly depending on individual preferences, lifestyles, and living situations. Some people might consider dogs the best pets due to their loyalty and companionship, while others might prefer cats for their independence and low maintenance. Small animals like hamsters, rabbits, or guinea pigs can be great for those\n",
      "Response 7: The best pet can vary greatly depending on individual preferences, lifestyles, and living situations. Some people might consider dogs the best pets due to their loyalty and companionship, while others might prefer cats for their independence and low maintenance. Small animals like hamsters, rabbits, or guinea pigs can be great for those\n",
      "Response 8: The best pet can vary greatly depending on individual preferences, lifestyles, and living situations. Some people might consider dogs the best pets due to their loyalty and companionship, while others might prefer cats for their independence and low maintenance. Small animals like hamsters, rabbits, or guinea pigs can be great for those\n",
      "Response 9: The best pet can vary greatly depending on individual preferences, lifestyles, and living situations. Some people might consider dogs the best pets due to their loyalty and companionship, while others might prefer cats for their independence and low maintenance. Small animals like hamsters, rabbits, or guinea pigs can be great for those\n",
      "Response 10: The best pet can vary greatly depending on individual preferences, lifestyles, and living situations. Some popular options include:\n",
      "\n",
      "1. **Dogs**: Known for their loyalty and companionship, dogs are often considered \"man's best friend.\" They require regular exercise and social interaction.\n",
      "\n",
      "2. **Cats**: Independent and\n"
     ]
    }
   ],
   "source": [
    "# Now using a seed and 0 temperature, the response is the much more consisitent\n",
    "call_openai(10, 'The best pet is a ', temperature = 0)"
   ]
  },
  {
   "cell_type": "markdown",
   "metadata": {
    "application/vnd.databricks.v1+cell": {
     "cellMetadata": {
      "byteLimit": 2048000,
      "rowLimit": 10000
     },
     "inputWidgets": {},
     "nuid": "61276900-f59f-413c-8389-52282398cde0",
     "showTitle": false,
     "tableResultSettingsMap": {},
     "title": ""
    }
   },
   "source": [
    "# Parameter: n\n",
    "**Description**: Specifies the number of completions to generate for each prompt. \\\n",
    "**Default Value**: 1 \\\n",
    "**Example**: n = 3 \n",
    "\n",
    "---\n",
    "**Note**: Because this parameter generates many completions, it can quickly consume your token quota. Use carefully and ensure that you have reasonable settings for max_tokens and stop."
   ]
  },
  {
   "cell_type": "code",
   "execution_count": 0,
   "metadata": {
    "application/vnd.databricks.v1+cell": {
     "cellMetadata": {
      "byteLimit": 2048000,
      "rowLimit": 10000
     },
     "inputWidgets": {},
     "nuid": "4069fbfe-930b-4a9f-a325-008353bfaf2a",
     "showTitle": false,
     "tableResultSettingsMap": {},
     "title": ""
    }
   },
   "outputs": [
    {
     "name": "stdout",
     "output_type": "stream",
     "text": [
      "0 The best pet is subjective and depends on individual preferences, lifestyles, and circumstances. Some people might say dogs are the best pets because they are loyal and social companions. Others might prefer cats for their independence\n"
     ]
    }
   ],
   "source": [
    "import re\n",
    "import requests\n",
    "import sys\n",
    "import os\n",
    "from openai import AzureOpenAI\n",
    "import tiktoken\n",
    "from dotenv import load_dotenv\n",
    "load_dotenv()\n",
    "\n",
    "response = client.chat.completions.create(\n",
    "          model=\"gpt-4o-mini\",\n",
    "          messages = [{\"role\":\"system\", \"content\":\"You are a helpful assistant.\"},\n",
    "                    {\"role\":\"user\",\"content\": \"The best pet is a\"}],\n",
    "                    max_tokens=40\n",
    "    )\n",
    "for index, c in enumerate(response.choices):\n",
    "    print(index, c.message.content)"
   ]
  },
  {
   "cell_type": "markdown",
   "metadata": {
    "application/vnd.databricks.v1+cell": {
     "cellMetadata": {
      "byteLimit": 2048000,
      "rowLimit": 10000
     },
     "inputWidgets": {},
     "nuid": "7414c295-b487-486f-9b7c-16017f891bd1",
     "showTitle": false,
     "tableResultSettingsMap": {},
     "title": ""
    }
   },
   "source": [
    "# Parameter: presence_penalty\n",
    "**Description**: Penalizes new tokens based on whether they appear in the text so far, encouraging the model to use new tokens. \\\n",
    "**Value Range**: -2.0 to 2.0 \\\n",
    "**Default Value**: 0 \\\n",
    "**Example**: presence_penalty=0.5"
   ]
  },
  {
   "cell_type": "code",
   "execution_count": 0,
   "metadata": {
    "application/vnd.databricks.v1+cell": {
     "cellMetadata": {
      "byteLimit": 2048000,
      "rowLimit": 10000
     },
     "inputWidgets": {},
     "nuid": "5ada73a9-e681-49a8-ad60-9005e29288d5",
     "showTitle": false,
     "tableResultSettingsMap": {},
     "title": ""
    }
   },
   "outputs": [
    {
     "name": "stdout",
     "output_type": "stream",
     "text": [
      "Presence Penalty: 0\n",
      "\n",
      "The best pet often depends on individual preferences, lifestyles, and living situations. Some people might say a dog is the best pet because they are loyal, affectionate, and great companions. Others may prefer cats\n",
      "\n",
      "--------------------------------------------------------------------------------\n",
      "\n",
      "Presence Penalty: 0.5\n",
      "\n",
      "The best pet often depends on a person's lifestyle, preferences, and living situation. Commonly favored pets include:\n",
      "\n",
      "1. **Dogs**: Loyal companions known for their intelligence and playfulness. They require\n",
      "\n",
      "--------------------------------------------------------------------------------\n",
      "\n",
      "Presence Penalty: 1.0\n",
      "\n",
      "The best pet often depends on individual preferences, lifestyle, and living situation. Here are a few popular options and what makes them great:\n",
      "\n",
      "1. **Dogs**: Known for their loyalty and companionship.\n",
      "\n",
      "--------------------------------------------------------------------------------\n",
      "\n",
      "Presence Penalty: 1.5\n",
      "\n",
      "The best pet can vary greatly depending on individual preferences, lifestyles, and needs. Here are a few popular options:\n",
      "\n",
      "1. **Dogs**: Known for their loyalty and companionship, they require regular exercise\n",
      "\n",
      "--------------------------------------------------------------------------------\n",
      "\n",
      "Presence Penalty: 2.0\n",
      "\n",
      "The best pet really depends on your personal preferences, lifestyle, and living situation. Here are a few popular options:\n",
      "\n",
      "1. **Dogs**: Known for their loyalty and companionship, dogs can be great\n",
      "\n",
      "--------------------------------------------------------------------------------\n",
      "\n"
     ]
    }
   ],
   "source": [
    "import os\n",
    "import openai\n",
    "\n",
    "# Configura tu clave de API de OpenAI\n",
    "openai.api_key = os.getenv('OPENAI_API_KEY')\n",
    "\n",
    "def call_openai_with_presence_penalty(presence_penalty):\n",
    "    response = client.chat.completions.create(\n",
    "        model=\"gpt-4o-mini\",  # Cambia el modelo según tu necesidad\n",
    "        messages=[\n",
    "            {\"role\": \"system\", \"content\": \"You are a helpful assistant.\"},\n",
    "            {\"role\": \"user\", \"content\": \"The best pet is a\"}\n",
    "        ],\n",
    "        max_tokens=40,\n",
    "        presence_penalty=presence_penalty  # Aplicamos el parámetro correctamente\n",
    "    )\n",
    "    return response.choices[0].message.content  # Devuelve solo el contenido generado\n",
    "\n",
    "# Generar respuestas con diferentes valores de presence_penalty\n",
    "penalties = [0, 0.5, 1.0, 1.5, 2.0]\n",
    "for penalty in penalties:\n",
    "    print(f\"Presence Penalty: {penalty}\\n\")\n",
    "    print(call_openai_with_presence_penalty(penalty))\n",
    "    print(\"\\n\" + \"-\"*80 + \"\\n\")\n"
   ]
  },
  {
   "cell_type": "markdown",
   "metadata": {
    "application/vnd.databricks.v1+cell": {
     "cellMetadata": {
      "byteLimit": 2048000,
      "rowLimit": 10000
     },
     "inputWidgets": {},
     "nuid": "c9491401-168b-4019-9381-3a1d343a3782",
     "showTitle": false,
     "tableResultSettingsMap": {},
     "title": ""
    }
   },
   "source": [
    "# Parameter: frequency_penalty\n",
    "**Description**: Penalizes new tokens based on their existing frequency in the text so far, reducing the likelihood of repeating the same line verbatim. \\\n",
    "**Value Range**: -2.0 to 2.0 \\\n",
    "**Default Value**: 0 \\\n",
    "**Example**: frequency_penalty=0.5"
   ]
  },
  {
   "cell_type": "markdown",
   "metadata": {
    "application/vnd.databricks.v1+cell": {
     "cellMetadata": {
      "byteLimit": 2048000,
      "rowLimit": 10000
     },
     "inputWidgets": {},
     "nuid": "75b916f3-01c2-467d-8062-ec1042921b95",
     "showTitle": false,
     "tableResultSettingsMap": {},
     "title": ""
    }
   },
   "source": [
    "#### Use cases to explore\n",
    "1. **Compare Responses** \\\n",
    "Generate multiple completions to compare and choose the best response for your use case.\n",
    "\n",
    "2. **Increase Diversity** \\\n",
    "Use multiple completions to get a variety of responses, which is useful in creative applications.\n",
    "\n",
    "3. **Enhance Robustness** \\\n",
    "Generate multiple responses to ensure consistency and accuracy across different completions.\n",
    "\n",
    "#### Best Practices\n",
    "1. **Optimize Prompt Length** \\\n",
    "Keep your prompts concise but informative to ensure the model has enough context.\n",
    "\n",
    "2. **Adjust Temperature and Top_p** \\\n",
    "Use these parameters to balance between deterministic and creative responses.\n",
    "\n",
    "3. **Monitor Token Usage** \\\n",
    "Be mindful of the max_tokens parameter to manage costs and response length.\n",
    "\n",
    "4. **Use Stopping Sequences** \\\n",
    "Define stopping sequences to control where the model should stop generating text, ensuring the output is within the desired context.\n",
    "\n",
    "5. **Generate Multiple Completions** \\\n",
    "Use the n parameter to generate multiple completions and select the best one for your needs."
   ]
  },
  {
   "cell_type": "markdown",
   "metadata": {
    "application/vnd.databricks.v1+cell": {
     "cellMetadata": {
      "byteLimit": 2048000,
      "rowLimit": 10000
     },
     "inputWidgets": {},
     "nuid": "afb41fdd-026f-42c2-b868-ba1df2798cf0",
     "showTitle": false,
     "tableResultSettingsMap": {},
     "title": ""
    }
   },
   "source": [
    "## Exercise 1: Exploring 'top_p' Parameter\n",
    "### Description:\n",
    "- The 'top_p' parameter controls nucleus sampling. Lower values make the output more focused by limiting the pool of tokens.\n",
    "\n",
    "### Task:\n",
    "- Write a function that calls the model with different 'top_p' values and observe how the output changes.\n"
   ]
  },
  {
   "cell_type": "code",
   "execution_count": 0,
   "metadata": {
    "application/vnd.databricks.v1+cell": {
     "cellMetadata": {
      "byteLimit": 2048000,
      "rowLimit": 10000
     },
     "inputWidgets": {},
     "nuid": "84fa8d89-27d2-4c7d-ac32-672c41887325",
     "showTitle": false,
     "tableResultSettingsMap": {},
     "title": ""
    }
   },
   "outputs": [
    {
     "name": "stdout",
     "output_type": "stream",
     "text": [
      "Top P: 0.1\n",
      "\n",
      "The best pet can vary greatly depending on individual preferences, lifestyles, and living situations. Here are a few popular options:\n",
      "\n",
      "1. **Dogs**: Known for their loyalty and companionship, dogs are often considered \"man's best friend.\" They require regular exercise and social interaction.\n",
      "\n",
      "2. **Cats**:\n",
      "\n",
      "--------------------------------------------------------------------------------\n",
      "\n",
      "Top P: 0.3\n",
      "\n",
      "The best pet can vary greatly depending on individual preferences, lifestyles, and living situations. Here are a few popular options:\n",
      "\n",
      "1. **Dogs**: Known for their loyalty and companionship, dogs are often considered \"man's best friend.\" They require regular exercise and social interaction.\n",
      "\n",
      "2. **Cats**:\n",
      "\n",
      "--------------------------------------------------------------------------------\n",
      "\n",
      "Top P: 0.7\n",
      "\n",
      "The best pet often depends on individual preferences, lifestyle, and living situation. Here are a few popular options:\n",
      "\n",
      "1. **Dogs**: Known for their loyalty and companionship, dogs are great for active individuals or families. They require regular exercise and training.\n",
      "\n",
      "2. **Cats**: Cats are generally\n",
      "\n",
      "--------------------------------------------------------------------------------\n",
      "\n",
      "Top P: 1.0\n",
      "\n",
      "The best pet can vary depending on an individual's lifestyle, preferences, and needs. Some popular choices include:\n",
      "\n",
      "- **Dogs**: Known for their loyalty and companionship, dogs can be great for active individuals or families.\n",
      "- **Cats**: Independent and low-maintenance, cats can be perfect for those\n",
      "\n",
      "--------------------------------------------------------------------------------\n",
      "\n"
     ]
    }
   ],
   "source": [
    "def call_openai_with_top_p(top_p):\n",
    "    response = client.chat.completions.create(\n",
    "        model=\"gpt-4o-mini\",\n",
    "        messages=[\n",
    "            {\"role\": \"system\", \"content\": \"You are a helpful assistant.\"},\n",
    "            {\"role\": \"user\", \"content\": \"The best pet is a\"}\n",
    "        ],\n",
    "                    max_tokens=60,\n",
    "                    top_p= top_p\n",
    "    )\n",
    "    return response.choices[0].message.content\n",
    "\n",
    "# Try with different values of top_p\n",
    "top_p_values = [0.1, 0.3, 0.7, 1.0]\n",
    "for value in top_p_values:\n",
    "    print(f\"Top P: {value}\\n\")\n",
    "    print(call_openai_with_top_p(value))\n",
    "    print(\"\\n\" + \"-\"*80 + \"\\n\")\n"
   ]
  },
  {
   "cell_type": "markdown",
   "metadata": {
    "application/vnd.databricks.v1+cell": {
     "cellMetadata": {
      "byteLimit": 2048000,
      "rowLimit": 10000
     },
     "inputWidgets": {},
     "nuid": "c89a66cc-4f5d-43e6-a23a-4967f22f2647",
     "showTitle": false,
     "tableResultSettingsMap": {},
     "title": ""
    }
   },
   "source": [
    "## Exercise 2: Frequency Penalty Exploration\n",
    "### Description:\n",
    "- This exercise will explore how the 'frequency_penalty' parameter affects the model's tendency to repeat itself.\n",
    "\n",
    "### Task:\n",
    "- Generate completions using different frequency_penalty values and note the diversity in responses.\n",
    "\n"
   ]
  },
  {
   "cell_type": "code",
   "execution_count": 0,
   "metadata": {
    "application/vnd.databricks.v1+cell": {
     "cellMetadata": {
      "byteLimit": 2048000,
      "rowLimit": 10000
     },
     "inputWidgets": {},
     "nuid": "51293fb6-622c-4350-a104-b3be07ef463e",
     "showTitle": false,
     "tableResultSettingsMap": {},
     "title": ""
    }
   },
   "outputs": [
    {
     "name": "stdout",
     "output_type": "stream",
     "text": [
      "Frequency Penalty: -1.0\n",
      "\n",
      "A fun fact about space is that it is completely silent! Unlike on Earth, where sound travels through air, space is a vacuum, meaning there are no molecules to carry sound waves. This is why astronauts use radios to communicate while in space, as radio waves can travel through the vacuum, but sound\n",
      "\n",
      "--------------------------------------------------------------------------------\n",
      "\n",
      "Frequency Penalty: 0.0\n",
      "\n",
      "A fun fact about space is that a day on Venus is longer than a year on Venus! Venus has an extremely slow rotation on its axis, taking about 243 Earth days to complete one full rotation. In contrast, it takes only about 225 Earth days for Venus to orbit the Sun. This\n",
      "\n",
      "--------------------------------------------------------------------------------\n",
      "\n",
      "Frequency Penalty: 1.0\n",
      "\n",
      "A fun fact about space is that a day on Venus is longer than a year on Venus! It takes Venus about 243 Earth days to complete one rotation on its axis, but only about 225 Earth days to orbit the Sun. This means that if you were standing on the surface of Venus,\n",
      "\n",
      "--------------------------------------------------------------------------------\n",
      "\n",
      "Frequency Penalty: 2.0\n",
      "\n",
      "One fun fact about space is that a day on Venus is longer than a year on Venus! While it takes about 243 Earth days for Venus to complete one rotation on its axis, it only takes about 225 Earth days for the planet to orbit around the Sun. So, if you were standing\n",
      "\n",
      "--------------------------------------------------------------------------------\n",
      "\n"
     ]
    }
   ],
   "source": [
    "def call_openai_with_frequency_penalty(frequency_penalty):\n",
    "    response = client.chat.completions.create(\n",
    "            model=\"gpt-4o-mini\",\n",
    "          messages = [{\"role\":\"system\", \"content\":\"You are a helpful assistant.\"},\n",
    "                    {\"role\":\"user\",\"content\": \"Tell me a fun fact about space.\"}],\n",
    "                    max_tokens=60,\n",
    "                    frequency_penalty=frequency_penalty\n",
    "    )\n",
    "    return response.choices[0].message.content\n",
    "\n",
    "penalties = [-1.0, 0.0, 1.0, 2.0]\n",
    "for penalty in penalties:\n",
    "    print(f\"Frequency Penalty: {penalty}\\n\")\n",
    "    print(call_openai_with_frequency_penalty(penalty))\n",
    "    print(\"\\n\" + \"-\"*80 + \"\\n\")\n"
   ]
  },
  {
   "cell_type": "markdown",
   "metadata": {
    "application/vnd.databricks.v1+cell": {
     "cellMetadata": {
      "byteLimit": 2048000,
      "rowLimit": 10000
     },
     "inputWidgets": {},
     "nuid": "651afc37-9a1d-4570-bb00-3d9c4335d981",
     "showTitle": false,
     "tableResultSettingsMap": {},
     "title": ""
    }
   },
   "source": [
    "## Exercise 3: Multi-Completion with 'n' Parameter\n",
    "### Description:\n",
    "- This exercise will help students generate multiple completions for the same prompt and compare the results.\n",
    "\n",
    "### Task:\n",
    "- Generate 3 completions for the same prompt by adjusting the 'n' parameter.\n"
   ]
  },
  {
   "cell_type": "code",
   "execution_count": 0,
   "metadata": {
    "application/vnd.databricks.v1+cell": {
     "cellMetadata": {
      "byteLimit": 2048000,
      "rowLimit": 10000
     },
     "inputWidgets": {},
     "nuid": "07c01626-27d4-4ec4-a031-41a228aaf5cd",
     "showTitle": false,
     "tableResultSettingsMap": {},
     "title": ""
    }
   },
   "outputs": [
    {
     "name": "stdout",
     "output_type": "stream",
     "text": [
      "0 A fun fact about space is that it is completely silent. Unlike on Earth, where sound travels through air, space is a vacuum, meaning there are no air molecules to transmit sound waves. This is why astronauts use radio communication to talk to each other while in space!\n",
      "1 Sure! One fun fact about space is that there are more stars in the universe than there are grains of sand on all the beaches on Earth. It's estimated that there are around 100 billion to 200 billion galaxies in the observable universe, each containing millions or even billions of stars. This means that the total number of stars could be around 1 septillion (1,000,000,000,000,000,000,000,000)! That puts the vastness of space into perspective and highlights just how enormous the universe is!\n",
      "2 A fun fact about space is that a day on Venus is longer than a year on Venus! Venus takes about 243 Earth days to rotate once on its axis (a single day) but only about 225 Earth days to complete one orbit around the Sun (a year). This means that if you were on Venus, it would take longer for the planet to spin around on its axis than for it to go all the way around the Sun!\n"
     ]
    }
   ],
   "source": [
    "response = client.chat.completions.create(\n",
    "        model=\"gpt-4o-mini\",\n",
    "        messages = [{\"role\":\"system\", \"content\":\"You are a helpful assistant.\"},\n",
    "                    {\"role\":\"user\",\"content\": \"Tell me a fun fact about space.\"}],\n",
    "        n=3\n",
    "    )\n",
    "for index, c in enumerate(response.choices):\n",
    "    print(index, c.message.content)"
   ]
  },
  {
   "cell_type": "markdown",
   "metadata": {
    "application/vnd.databricks.v1+cell": {
     "cellMetadata": {
      "byteLimit": 2048000,
      "rowLimit": 10000
     },
     "inputWidgets": {},
     "nuid": "ad9068da-8952-4842-b80a-612466c1ee89",
     "showTitle": false,
     "tableResultSettingsMap": {},
     "title": ""
    }
   },
   "source": [
    "## Exercise 4: Temperature vs. Deterministic Output\n",
    "### Description:\n",
    "- Adjust the 'temperature' parameter to explore the balance between creative and deterministic responses.\n",
    "\n",
    "### Task:\n",
    "- Generate completions with different temperature values and analyze the variance in output.\n"
   ]
  },
  {
   "cell_type": "code",
   "execution_count": 0,
   "metadata": {
    "application/vnd.databricks.v1+cell": {
     "cellMetadata": {
      "byteLimit": 2048000,
      "rowLimit": 10000
     },
     "inputWidgets": {},
     "nuid": "273ed3a6-922d-460e-a1f1-22f235d47473",
     "showTitle": false,
     "tableResultSettingsMap": {},
     "title": ""
    }
   },
   "outputs": [
    {
     "name": "stdout",
     "output_type": "stream",
     "text": [
      "Temperature: 0.0\n",
      "\n",
      "A fun fact about space is that there are more stars in the universe than there are grains of sand on all the beaches on Earth! It's estimated that there are about 100 billion to 200 billion galaxies, each containing millions or even billions of stars. This means the total number of stars could be\n",
      "\n",
      "--------------------------------------------------------------------------------\n",
      "\n",
      "Temperature: 0.3\n",
      "\n",
      "A fun fact about space is that there are more stars in the universe than grains of sand on all the Earth's beaches! It's estimated that there are about 100 billion to 200 billion galaxies, each containing millions or even billions of stars. This means the total number of stars could be around 1\n",
      "\n",
      "--------------------------------------------------------------------------------\n",
      "\n",
      "Temperature: 0.7\n",
      "\n",
      "A fun fact about space is that there are more stars in the universe than there are grains of sand on all the Earth's beaches! Astronomers estimate that there are about 100 billion to 200 billion galaxies in the universe, each containing billions of stars. This staggering number highlights just how vast and\n",
      "\n",
      "--------------------------------------------------------------------------------\n",
      "\n",
      "Temperature: 1.0\n",
      "\n",
      "One fun fact about space is that it is completely silent! Unlike on Earth, where sound travels through molecules in the air, space is a vacuum and has very few particles. This means that sound cannot travel in space, and astronauts use radios to communicate while in space. So, if you were floating\n",
      "\n",
      "--------------------------------------------------------------------------------\n",
      "\n"
     ]
    }
   ],
   "source": [
    "def call_openai_with_temperature(temperature):\n",
    "    response = client.chat.completions.create(\n",
    "            model=\"gpt-4o-mini\",\n",
    "          messages = [{\"role\":\"system\", \"content\":\"You are a helpful assistant.\"},\n",
    "                    {\"role\":\"user\",\"content\": \"Tell me a fun fact about space.\"}],\n",
    "                    max_tokens=60,\n",
    "                    temperature= temperature\n",
    "    )\n",
    "    return response.choices[0].message.content\n",
    "\n",
    "temperatures = [0.0, 0.3, 0.7, 1.0]\n",
    "for temp in temperatures:\n",
    "    print(f\"Temperature: {temp}\\n\")\n",
    "    print(call_openai_with_temperature(temp))\n",
    "    print(\"\\n\" + \"-\"*80 + \"\\n\")"
   ]
  }
 ],
 "metadata": {
  "application/vnd.databricks.v1+notebook": {
   "computePreferences": null,
   "dashboards": [],
   "environmentMetadata": null,
   "language": "python",
   "notebookMetadata": {
    "pythonIndentUnit": 4
   },
   "notebookName": "05_OpenAI_parameters_fixed",
   "widgets": {}
  },
  "kernelspec": {
   "display_name": "Python 3",
   "language": "python",
   "name": "python3"
  },
  "language_info": {
   "codemirror_mode": {
    "name": "ipython",
    "version": 3
   },
   "file_extension": ".py",
   "mimetype": "text/x-python",
   "name": "python",
   "nbconvert_exporter": "python",
   "pygments_lexer": "ipython3",
   "version": "3.13.0"
  }
 },
 "nbformat": 4,
 "nbformat_minor": 0
}
