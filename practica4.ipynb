{
 "cells": [
  {
   "cell_type": "code",
   "execution_count": 2,
   "metadata": {},
   "outputs": [],
   "source": [
    "import re\n",
    "import requests\n",
    "import sys\n",
    "import os\n",
    "from openai import AzureOpenAI\n",
    "import tiktoken\n",
    "from dotenv import load_dotenv\n",
    "load_dotenv()\n",
    "\n",
    "client = AzureOpenAI(\n",
    "        azure_endpoint=os.getenv(\"AZURE_OPENAI_ENDPOINT\"),\n",
    "        api_key=os.getenv(\"AZURE_OPENAI_API_KEY\"),\n",
    "        api_version=\"2024-02-01\"\n",
    "    )\n",
    "\n",
    "CHAT_COMPLETIONS_MODEL = \"gpt-4o-mini\""
   ]
  },
  {
   "cell_type": "markdown",
   "metadata": {},
   "source": [
    "# A Few Shot Learning"
   ]
  },
  {
   "cell_type": "code",
   "execution_count": 4,
   "metadata": {},
   "outputs": [
    {
     "name": "stdout",
     "output_type": "stream",
     "text": [
      "😍,👏,✨,💻,🎉\n"
     ]
    }
   ],
   "source": [
    "# Zero-shot classification\n",
    "system_prompt =\"\"\"Predict up to 5 emojis as a response to a text chat message. The output\n",
    "should only include emojis.\n",
    "\n",
    "input: The new visual design is blowing my mind 🤯\n",
    "output: ➕,💘, ❤‍🔥\n",
    "\n",
    "input: Well that looks great regardless\n",
    "output: ❤️,🪄\n",
    "\n",
    "input: Unfortunately this won't work\n",
    "output: 💔,😔\n",
    "\n",
    "input: sounds good, I'll look into that\n",
    "output: 🙏,👍\n",
    "\n",
    "input: 10hr cut of jeff goldblum laughing URL\n",
    "output: 😂,💀,⚰️\n",
    "\"\"\"\n",
    "user_prompt = \"The new user interface is amazing!\"\n",
    "response = client.chat.completions.create(\n",
    "    model=CHAT_COMPLETIONS_MODEL,\n",
    "    messages = [{\"role\":\"system\", \"content\":system_prompt},\n",
    "                {\"role\":\"user\",\"content\": user_prompt,}])\n",
    "print(response.choices[0].message.content)"
   ]
  },
  {
   "cell_type": "markdown",
   "metadata": {},
   "source": [
    "# Prompt Engineering Best Practices\n",
    "\n",
    "## Write clear instructions\n",
    "\n",
    "Examples:\n",
    "\n",
    "-----------------------\n",
    "Prompt:\n",
    "\n",
    "Write code to calculate the Fibonacci sequence.\n",
    "\n",
    "Better:\n",
    "\n",
    "Write a TypeScript function to efficiently calculate the Fibonacci sequence. Comment the code liberally to explain what each piece does and why it's written that way.\n",
    "\n",
    "----------------------\n",
    "\n",
    "Prompt:\n",
    "\n",
    "Summarize the meeting notes.\n",
    "\n",
    "Better:\n",
    "\n",
    "Summarize the meeting notes in a single paragraph. Then write a markdown list of the speakers and each of their key points. Finally, list the next steps or action items suggested by the speakers, if any.\n"
   ]
  },
  {
   "cell_type": "markdown",
   "metadata": {},
   "source": [
    "## Role Playing\n",
    "\n",
    "Examples:\n",
    "\n",
    "-----------------------\n",
    "\n",
    "System Message: When I ask for help to write something, you will reply with a document that contains at least one joke or playful comment in every paragraph.\n",
    "\n",
    "----------------------\n"
   ]
  },
  {
   "cell_type": "markdown",
   "metadata": {},
   "source": [
    "## Segment input text\n",
    "\n",
    "Examples:\n",
    "\n",
    "------------------------\n",
    "\n",
    "user message: Summarize the text delimited by triple quotes with a haiku.\n",
    "\n",
    "\"\"\"insert text here\"\"\"\n",
    "\n",
    "------------------------\n",
    "\n",
    "system message: You will be provided with a pair of articles (delimited with XML tags) about the same topic. First summarize the arguments of each article. Then indicate which of them makes a better argument and explain why.\n",
    "\n",
    "user message: \n",
    "\n",
    "\\<article> insert first article here \\</article>\n",
    "\n",
    "\\<article> insert second article here \\</article>\n",
    "\n",
    "------------------------"
   ]
  },
  {
   "cell_type": "markdown",
   "metadata": {},
   "source": [
    "## Explain steps and processes to complete a task\n",
    "\n",
    "Examples:\n",
    "\n",
    "--------------------------------\n",
    "\n",
    "System Message:\n",
    "Use the following step-by-step instructions to respond to user inputs.\n",
    "\n",
    "Step 1 - The user will provide you with text in triple quotes. Summarize this text in one sentence with a prefix that says \"Summary: \".\n",
    "\n",
    "Step 2 - Translate the summary from Step 1 into Spanish, with a prefix that says \"Translation: \".\n",
    "\n",
    "---------------------------------"
   ]
  },
  {
   "cell_type": "markdown",
   "metadata": {},
   "source": [
    "## Ejercicio 1: Clasificación de Emojis con Zero-shot\n",
    "Enunciado:\n",
    "Dado el siguiente texto, predice hasta 5 emojis que mejor representen la emoción o el tema del mensaje. Usa el modelo de Zero-shot para hacer la clasificación.\n",
    "\n",
    "Texto: \"Estoy tan feliz que no puedo dejar de sonreír.\"\n",
    "\n",
    "Resultado esperado: 😄,😊,✨,🌞,❤️"
   ]
  },
  {
   "cell_type": "code",
   "execution_count": 8,
   "metadata": {},
   "outputs": [
    {
     "name": "stdout",
     "output_type": "stream",
     "text": [
      "😞,💔,😔,😟,🌧️\n"
     ]
    }
   ],
   "source": [
    "user_prompt = \"No estoy nada contento hoy\"\n",
    "response = client.chat.completions.create(\n",
    "    model=CHAT_COMPLETIONS_MODEL,\n",
    "    messages = [{\"role\":\"system\", \"content\":system_prompt},\n",
    "                {\"role\":\"user\",\"content\": user_prompt,}])\n",
    "print(response.choices[0].message.content)\n",
    "\n",
    "\n",
    "\n"
   ]
  },
  {
   "cell_type": "markdown",
   "metadata": {},
   "source": [
    "## Ejercicio 2: Traducción de Resumen\n",
    "Enunciado:\n",
    "El siguiente texto es una transcripción de una reunión. Resúmelo en una sola oración, luego traduce ese resumen al inglés.\n",
    "\n",
    "Texto:\n",
    "\"\"\"Hoy discutimos sobre la necesidad de mejorar la interfaz de usuario en el sitio web. Los participantes estuvieron de acuerdo en que se debe hacer más intuitiva y accesible, especialmente para usuarios mayores. También se mencionó la importancia de agregar soporte multilingüe.\"\"\"\n",
    "\n"
   ]
  },
  {
   "cell_type": "code",
   "execution_count": 12,
   "metadata": {},
   "outputs": [
    {
     "name": "stdout",
     "output_type": "stream",
     "text": [
      "Summary: En la reunión se acordó la necesidad de mejorar la interfaz de usuario del sitio web para que sea más intuitiva y accesible, especialmente para usuarios mayores, además de incorporar soporte multilingüe.\n",
      "Translation: In the meeting, it was agreed that there is a need to improve the website's user interface to make it more intuitive and accessible, especially for older users, as well as to incorporate multilingual support.\n"
     ]
    }
   ],
   "source": [
    "user_prompt = \"\"\"Hoy discutimos sobre la necesidad de mejorar la interfaz de usuario en el sitio web. Los participantes estuvieron de acuerdo en que se debe hacer más intuitiva y accesible, especialmente para usuarios mayores. También se mencionó la importancia de agregar soporte multilingüe.\"\"\"\n",
    "\n",
    "response = client.chat.completions.create(\n",
    "    model=CHAT_COMPLETIONS_MODEL,\n",
    "    messages=[{\"role\": \"system\", \"content\": \"Resume la siguiente reunion en una oracion\"},\n",
    "              {\"role\": \"user\", \"content\": user_prompt}]\n",
    ")\n",
    "summary = response.choices[0].message.content\n",
    "print(f\"Summary: {summary}\")\n",
    "\n",
    "# Traducción al inglés\n",
    "translation_prompt = f\"Traduce el siguiente resumen al Ingles: {summary}\"\n",
    "response = client.chat.completions.create(\n",
    "    model=CHAT_COMPLETIONS_MODEL,\n",
    "    messages=[{\"role\": \"system\", \"content\": \"Traduce el siguiente resumen al Ingles\"},\n",
    "              {\"role\": \"user\", \"content\": summary}]\n",
    ")\n",
    "print(f\"Translation: {response.choices[0].message.content}\")\n"
   ]
  },
  {
   "cell_type": "markdown",
   "metadata": {},
   "source": [
    "## Ejercicio 4: Respuesta Automática con Role-playing\n",
    "Enunciado:\n",
    "Configura un modelo para responder a una solicitud de escritura, haciendo que la respuesta contenga un toque de humor. Usa la siguiente solicitud como ejemplo.\n",
    "\n",
    "Solicitud:\n",
    "\"Escribe una carta formal solicitando días de vacaciones.\"\n",
    "\n"
   ]
  },
  {
   "cell_type": "code",
   "execution_count": 13,
   "metadata": {},
   "outputs": [
    {
     "name": "stdout",
     "output_type": "stream",
     "text": [
      "[Tu Nombre]  \n",
      "[Tu Dirección]  \n",
      "[Ciudad, Estado, Código Postal]  \n",
      "[Tu Correo Electrónico]  \n",
      "[Tu Teléfono]  \n",
      "[Fecha]  \n",
      "\n",
      "[Nombre del Jefe o Supervisor]  \n",
      "[Nombre de la Empresa]  \n",
      "[Dirección de la Empresa]  \n",
      "[Ciudad, Estado, Código Postal]  \n",
      "\n",
      "Estimado/a [Nombre del Jefe o Supervisor]:\n",
      "\n",
      "Espero que este mensaje le encuentre con el mismo ánimo que un café en lunes por la mañana (es decir, con energía, pero con esa pizca de \"no tengo ganas\"). Me atrevo a escribirle porque tengo una pequeña (y no tan pequeña) solicitud que hacerle: ¡vacaciones!\n",
      "\n",
      "Después de un año de lidiar con informes, reuniones y los misterios del café de la oficina, he decidido que este cuerpo necesita un descanso. Por lo tanto, solicito formalmente [número de días] días de vacaciones desde el [fecha de inicio] hasta el [fecha de finalización]. No se preocupe, mi plan es regresar más fresco que una lechuga (o al menos tan fresco como un archivo sin formato en el ordenador).\n",
      "\n",
      "Si necesita que le ayude con algo antes de esas fechas mágicas, no dude en decírmelo. Estoy a su disposición para asegurarme de que mi ausencia no sea más desastrosa que un lunes sin café.\n",
      "\n",
      "Agradezco de antemano su comprensión y espero ansiosamente su respuesta positiva. Le aseguro que regresaré listo/a para enfrentar cualquier desafío, o al menos para intentar recordar dónde dejé mi taza favorita.\n",
      "\n",
      "Atentamente,\n",
      "\n",
      "[Tu Nombre]  \n",
      "[Tu Puesto]  \n",
      "[Tu Empresa]  \n"
     ]
    }
   ],
   "source": [
    "system_prompt = \"hazmelo con humor\"\n",
    "\n",
    "user_prompt = \"Escribe una carta formal solicitando días de vacaciones.\"\n",
    "\n",
    "response = client.chat.completions.create(\n",
    "    model=CHAT_COMPLETIONS_MODEL,\n",
    "    messages=[{\"role\": \"system\", \"content\": system_prompt},\n",
    "              {\"role\": \"user\", \"content\": user_prompt}]\n",
    ")\n",
    "\n",
    "# Mostrar la respuesta generada\n",
    "print(response.choices[0].message.content)  # Ejemplo de salida: carta con broma\n"
   ]
  },
  {
   "cell_type": "markdown",
   "metadata": {},
   "source": [
    "## Ejercicio 5: Segmentación de Texto\n",
    "Enunciado:\n",
    "Segmenta un texto delimitado por comillas triples y luego tradúcelo a otro idioma (por ejemplo, inglés). Aplica el siguiente formato de entrada de texto y muestra cómo lo harías.\n",
    "\n",
    "Texto de Entrada:\n",
    "\"\"\"Hoy es un buen día para aprender nuevas cosas y mejorar nuestras habilidades. ¡El futuro está lleno de oportunidades!\"\"\"\n"
   ]
  },
  {
   "cell_type": "code",
   "execution_count": 14,
   "metadata": {},
   "outputs": [
    {
     "name": "stdout",
     "output_type": "stream",
     "text": [
      "Segmentado:\n",
      "\n",
      "1. Hoy es un buen día para aprender nuevas cosas.  \n",
      "2. y mejorar nuestras habilidades.  \n",
      "3. ¡El futuro está lleno de oportunidades!  \n",
      "\n",
      "Traducción al inglés:\n",
      "\n",
      "1. Today is a good day to learn new things.  \n",
      "2. and improve our skills.  \n",
      "3. The future is full of opportunities!  \n"
     ]
    }
   ],
   "source": [
    "system_prompt = \"segmenta el texto y luego traducemelo al ingles\"\n",
    "\n",
    "user_prompt = \"\"\"Hoy es un buen día para aprender nuevas cosas y mejorar nuestras habilidades. ¡El futuro está lleno de oportunidades!\"\"\"\n",
    "\n",
    "response = client.chat.completions.create(\n",
    "    model=CHAT_COMPLETIONS_MODEL,\n",
    "    messages=[{\"role\": \"system\", \"content\": system_prompt},\n",
    "              {\"role\": \"user\", \"content\": user_prompt}]\n",
    ")\n",
    "\n",
    "# Mostrar la respuesta generada\n",
    "print(response.choices[0].message.content)  # Salida esperada: resumen en español e inglés\n"
   ]
  },
  {
   "cell_type": "markdown",
   "metadata": {},
   "source": [
    "## Ejercicio 6: Predicción de Emojis con Zero-shot\n",
    "Enunciado:\n",
    "Realiza una clasificación Zero-shot utilizando el modelo y predice hasta 5 emojis para el siguiente mensaje:\n",
    "\n",
    "Texto de entrada:\n",
    "\"Estoy muy cansado, pero contento con el trabajo que he hecho.\"\n",
    "\n"
   ]
  },
  {
   "cell_type": "code",
   "execution_count": 15,
   "metadata": {},
   "outputs": [
    {
     "name": "stdout",
     "output_type": "stream",
     "text": [
      "😊💪✨😴👍\n"
     ]
    }
   ],
   "source": [
    "system_prompt = \"\"\"Predice hasta 5 emojis como respuesta a un mensaje de chat. La salida debe solo incluir emojis.\n",
    "\"\"\"\n",
    "user_prompt = \"Estoy muy cansado, pero contento con el trabajo que he hecho.\"\n",
    "response = client.chat.completions.create(\n",
    "    model=CHAT_COMPLETIONS_MODEL,\n",
    "    messages=[{\"role\": \"system\", \"content\": system_prompt},\n",
    "              {\"role\": \"user\", \"content\": user_prompt}]\n",
    ")\n",
    "\n",
    "# Mostrar la respuesta generada\n",
    "print(response.choices[0].message.content)  # Ejemplo de salida: \"😅,💪,👌\""
   ]
  },
  {
   "cell_type": "markdown",
   "metadata": {},
   "source": [
    "## Ejercicio 7: Predicción de Emojis con Few-shot Learning\n",
    "\n",
    "Enunciado:\n",
    "\n",
    "En este ejercicio utilizarás Few-shot learning con roles (system, user, assistant) para predecir emojis. En Few-shot learning, proporcionamos ejemplos específicos de interacciones para que el modelo aprenda a generalizar la tarea con pocos ejemplos.\n",
    "\n",
    "Dado un conjunto de ejemplos de interacciones entre un usuario y un asistente, utiliza el modelo para predecir hasta 5 emojis para el siguiente mensaje:\n",
    "\n",
    "Mensaje: \"Estoy muy cansado, pero contento con el trabajo que he hecho.\"\n",
    "\n",
    "Devuelve solo los emojis, separados por comas."
   ]
  },
  {
   "cell_type": "code",
   "execution_count": 16,
   "metadata": {},
   "outputs": [
    {
     "name": "stdout",
     "output_type": "stream",
     "text": [
      "😌,💪,👏,😴\n"
     ]
    }
   ],
   "source": [
    "# Definir el prompt con Few-shot utilizando múltiples roles\n",
    "few_shot_prompt = [\n",
    "    {\"role\": \"system\", \"content\": \"You are an assistant that predicts emojis based on user text.\"},\n",
    "    \n",
    "    {\"role\": \"user\", \"content\": \"Estoy muy feliz con mi nuevo trabajo.\"},\n",
    "    {\"role\": \"assistant\", \"content\": \"😊,🎉,💼,💪\"},\n",
    "    \n",
    "    {\"role\": \"user\", \"content\": \"No me siento bien, tengo dolor de cabeza.\"},\n",
    "    {\"role\": \"assistant\", \"content\": \"😞,🤕,💔\"},\n",
    "    \n",
    "    {\"role\": \"user\", \"content\": \"Hoy es un día increíble para correr al aire libre.\"},\n",
    "    {\"role\": \"assistant\", \"content\": \"🏃‍♂️,🌳,🌞,💨\"},\n",
    "    \n",
    "    {\"role\": \"user\", \"content\": \"Acabo de terminar de ver una película emocionante.\"},\n",
    "    {\"role\": \"assistant\", \"content\": \"🎬,👏,😱,❤️\"},\n",
    "    \n",
    "    {\"role\": \"user\", \"content\": \"Voy a dormir temprano, me siento agotado.\"},\n",
    "    {\"role\": \"assistant\", \"content\": \"😴,🛏️,😴\"},\n",
    "    \n",
    "    # Ahora pedimos la predicción para el nuevo mensaje\n",
    "    {\"role\": \"user\", \"content\": \"Estoy muy cansado, pero contento con el trabajo que he hecho.\"},\n",
    "]\n",
    "\n",
    "# Llamada a la API para obtener la predicción de emojis\n",
    "response = client.chat.completions.create(\n",
    "    model=CHAT_COMPLETIONS_MODEL,\n",
    "    messages=few_shot_prompt\n",
    ")\n",
    "\n",
    "# Mostrar la respuesta generada\n",
    "print(response.choices[0].message.content)  # Ejemplo de salida: \"😅,💪,👌\""
   ]
  }
 ],
 "metadata": {
  "kernelspec": {
   "display_name": "Python 3",
   "language": "python",
   "name": "python3"
  },
  "language_info": {
   "codemirror_mode": {
    "name": "ipython",
    "version": 3
   },
   "file_extension": ".py",
   "mimetype": "text/x-python",
   "name": "python",
   "nbconvert_exporter": "python",
   "pygments_lexer": "ipython3",
   "version": "3.13.0"
  }
 },
 "nbformat": 4,
 "nbformat_minor": 4
}
