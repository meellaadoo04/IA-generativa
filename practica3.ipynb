{
 "cells": [
  {
   "attachments": {},
   "cell_type": "markdown",
   "metadata": {},
   "source": [
    "# Best Practices for Prompt Engineering\n",
    "\n"
   ]
  },
  {
   "cell_type": "code",
   "execution_count": 2,
   "metadata": {},
   "outputs": [],
   "source": [
    "import re\n",
    "import requests\n",
    "import sys\n",
    "import os\n",
    "from openai import AzureOpenAI\n",
    "import tiktoken\n",
    "from dotenv import load_dotenv\n",
    "load_dotenv()\n",
    "\n",
    "client = AzureOpenAI(\n",
    "        azure_endpoint=os.getenv(\"AZURE_OPENAI_ENDPOINT\"),\n",
    "        api_key=os.getenv(\"AZURE_OPENAI_API_KEY\"),\n",
    "        api_version=\"2024-02-01\"\n",
    "    )\n",
    "\n",
    "CHAT_COMPLETIONS_MODEL = \"gpt-4o-mini\""
   ]
  },
  {
   "attachments": {},
   "cell_type": "markdown",
   "metadata": {},
   "source": [
    "# 1. Use the latest model\n",
    "\n",
    "Use the latest model for best results."
   ]
  },
  {
   "attachments": {},
   "cell_type": "markdown",
   "metadata": {},
   "source": [
    "# 2. Put instructions at the begining of the prompt and use ### or \"\"\" to separate the instruction and context"
   ]
  },
  {
   "cell_type": "code",
   "execution_count": 4,
   "metadata": {},
   "outputs": [
    {
     "name": "stdout",
     "output_type": "stream",
     "text": [
      "- OpenAI y Microsoft amplían su asociación.\n",
      "- Inversión multimillonaria de Microsoft a largo plazo.\n",
      "- Continúan los inversiones previas de Microsoft en 2019 y 2021.\n",
      "- Permite a OpenAI seguir investigando y desarrollando IA de manera segura y útil.\n",
      "- OpenAI es una empresa con beneficios limitados y está gobernada por una organización sin fines de lucro.\n",
      "- Estructura que permite recaudar capital sin comprometer la misión de compartir beneficios y priorizar la seguridad.\n",
      "- Microsoft comparte la visión y los valores de OpenAI.\n",
      "- La asociación es clave para el progreso de OpenAI.\n"
     ]
    }
   ],
   "source": [
    "# Define las instrucciones que guiarán al modelo para que resuma el texto dado, como una lista de viñetas.\n",
    "# Luego, utiliza esas instrucciones para construir un \"prompt\" (entrada) que incluye el contexto del texto a resumir.\n",
    "\n",
    "instrucctiones = 'Resumeme el siguiente texto como si fuera una lista de viñetas'\n",
    "\n",
    "prompt = f\"{instrucctiones} ###\\n\\nWe’re happy to announce that OpenAI and Microsoft are extending our partnership.\\\n",
    "        This multi-year, multi-billion dollar investment from Microsoft follows their previous investments \\\n",
    "        in 2019 and 2021, and will allow us to continue our independent research and develop AI that is \\\n",
    "        increasingly safe, useful, and powerful. \\n\\n \\\n",
    "        In pursuit of our mission to ensure advanced AI benefits all of humanity, OpenAI remains a \\\n",
    "        capped-profit company and is governed by the OpenAI non-profit. This structure allows us to \\\n",
    "        raise the capital we need to fulfill our mission without sacrificing our core beliefs about \\\n",
    "        broadly sharing benefits and the need to prioritize safety. \\\n",
    "        Microsoft shares this vision and our values, and our partnership is instrumental to our progress. \\n###\"\n",
    "response = client.chat.completions.create(\n",
    "    model=CHAT_COMPLETIONS_MODEL,\n",
    "    messages = [{\"role\":\"system\", \"content\":\"You are a helpful assistant.\"},\n",
    "                {\"role\":\"user\",\"content\": prompt}],\n",
    "        max_tokens=400,)\n",
    "\n",
    "print(response.choices[0].message.content)"
   ]
  },
  {
   "attachments": {},
   "cell_type": "markdown",
   "metadata": {},
   "source": [
    "# 3. Be specific, descriptive and as detailed as possible about the desired context, outcome, length, format, style, etc"
   ]
  },
  {
   "cell_type": "code",
   "execution_count": 5,
   "metadata": {},
   "outputs": [
    {
     "name": "stdout",
     "output_type": "stream",
     "text": [
      "En el verde campo, el sol despierta,  \n",
      "el silbato suena, la emoción se alerta,  \n",
      "veinte corazones laten como uno,  \n",
      "el deporte rey, pasión que se\n"
     ]
    }
   ],
   "source": [
    "response = client.chat.completions.create(\n",
    "    model=CHAT_COMPLETIONS_MODEL,\n",
    "    messages = [{\"role\":\"system\", \"content\":\"You are a helpful assistant.\"},\n",
    "                {\"role\":\"user\",\"content\": 'Escribeme un poema sobre futbol',}],\n",
    "        max_tokens=40,)\n",
    "\n",
    "print(response.choices[0].message.content)\n"
   ]
  },
  {
   "cell_type": "code",
   "execution_count": 6,
   "metadata": {},
   "outputs": [
    {
     "name": "stdout",
     "output_type": "stream",
     "text": [
      "En la cancha el rugir resuena,  \n",
      "el sol brilla, la esperanza plena,  \n",
      "dos raquetas, un instante eterno,  \n",
      "la pasión del juego, fuego interno.  \n",
      "\n",
      "Bajo el cielo, la línea traza,  \n",
      "donde el sudor y el amor se abrazan,  \n",
      "gritos y aplausos, el aire vibrante,  \n",
      "cada punto es danza, un lujo constante.  \n",
      "\n",
      "Los aficionados, corazones latiendo,  \n",
      "con cada saque, su ánimo enciendo,  \n",
      "los colores ondean, banderas ondean,  \n",
      "la magia del tenis, juntos pasean.  \n",
      "\n",
      "En los asientos, un mundo de sueños,  \n",
      "suspiros y saltos, momentos pequeños,  \n",
      "las miradas fijas, los rostros encendidos,  \n",
      "terrenos de gloria, pasiones perdidos.  \n",
      "\n",
      "El toque sutil de la bola en acción,  \n",
      "el eco del juego, pura adicción,  \n",
      "en cada set, en cada desafío,  \n",
      "la comunidad vive, un amor tardío.  \n",
      "\n",
      "Victores y lágrimas, un manto de emoción,  \n",
      "cada partido, una nueva lección,  \n",
      "la vida se juega línea a línea,  \n",
      "en el tenis hallamos nuestra doctrina.  \n",
      "\n",
      "Así avanza la pasión desbordante,  \n",
      "como un río que fluye, siempre constante,  \n",
      "los aficionados, un mar de fervor,  \n",
      "en esta cancha, compartimos el amor.  \n"
     ]
    }
   ],
   "source": [
    "response = client.chat.completions.create(\n",
    "    model=CHAT_COMPLETIONS_MODEL,\n",
    "    messages = [{\"role\":\"system\", \"content\":\"You are a helpful assistant.\"},\n",
    "                {\"role\":\"user\",\"content\": 'Escribeme un poema sobre tenis, \\\n",
    "                centrate es describir la pasion de los aficionados',}],\n",
    "        max_tokens=400,)\n",
    "\n",
    "print(response.choices[0].message.content)\n",
    "\n"
   ]
  },
  {
   "attachments": {},
   "cell_type": "markdown",
   "metadata": {},
   "source": [
    "# 4. Articulate the desired output format through examples (example 1, example 2). "
   ]
  },
  {
   "cell_type": "code",
   "execution_count": 8,
   "metadata": {},
   "outputs": [
    {
     "name": "stdout",
     "output_type": "stream",
     "text": [
      "Aquí tienes el formato solicitado para las empresas y los años extraídos del texto:\n",
      "\n",
      "```json\n",
      "[\n",
      "    {\"text\": \"OpenAI\", \"start\": 28, \"end\": 34},\n",
      "    {\"text\": \"Microsoft\", \"start\": 39, \"end\": 48},\n",
      "    {\"text\": \"2019\", \"start\": 97, \"end\": 101},\n",
      "    {\"text\": \"2021\", \"start\": 106, \"end\": 110}\n",
      "]\n",
      "```\n"
     ]
    }
   ],
   "source": [
    "#Escribe las instrucciones aquí. Las instrucciones deben especificar que el modelo debe:\n",
    "# 1. Extraer los nombres de las empresas y los años del texto.\n",
    "# 2. Generar la salida como un diccionario con 'text', 'start' y 'end'.\n",
    "instrucctiones = ' Extraeme los nombres de las empresas y los años del texto \\\n",
    "                    Generate output as {{\\\"text\\\": \\\"OpenAI\\\", \\\"start\\\": 28, \\\"end\\\": 34}} ' \n",
    "\n",
    "prompt = f\"{instrucctiones}  \\\n",
    "        ### We’re happy to announce that OpenAI and Microsoft are extending our partnership. This multi-year, \\\n",
    "        multi-billion dollar investment from Microsoft follows their previous investments in 2019 and 2021, \\\n",
    "        and will allow us to continue our independent research and develop AI that is increasingly safe, useful, and powerful. \\n\\n ### \"\n",
    "\n",
    "\n",
    "response = client.chat.completions.create(\n",
    "    model=CHAT_COMPLETIONS_MODEL,\n",
    "    messages = [{\"role\":\"system\", \"content\":\"You are a helpful assistant.\"},\n",
    "                {\"role\":\"user\",\"content\": prompt,}],\n",
    "        max_tokens=400,)\n",
    "\n",
    "print(response.choices[0].message.content)\n",
    "\n"
   ]
  },
  {
   "cell_type": "code",
   "execution_count": 9,
   "metadata": {},
   "outputs": [
    {
     "name": "stdout",
     "output_type": "stream",
     "text": [
      "Empresas: OpenAI, Microsoft  \n",
      "Años: 2019, 2021  \n",
      "Temas específicos: inversión, asociación, investigación independiente, desarrollo de IA  \n",
      "Temas generales: tecnología, inteligencia artificial, colaboración empresarial  \n"
     ]
    }
   ],
   "source": [
    "\n",
    "# Las instrucciones deben pedir al modelo que extraiga los siguientes tipos de entidades del texto:\n",
    "# 1. Nombres de empresas.\n",
    "# 2. Años.\n",
    "# 3. Temas específicos relacionados con el contenido.\n",
    "# 4. Temas generales y abarcativos.\n",
    "# El formato de salida esperado debe incluir listas separadas por comas para cada tipo de entidad.\n",
    "\n",
    "instrucctiones = \"Extraeme los nombres de las empresas, los años, los temas específicos y los temas generales del texto.\\\n",
    "                    Genera la salida como una lista separada por comas para cada tipo de entidad \"\n",
    "\n",
    "\n",
    "prompt = f\"{instrucctiones}  \\\n",
    "        '\\\n",
    "                We’re happy to announce that OpenAI and Microsoft are extending our partnership.\\\n",
    "                This multi-year, multi-billion dollar investment from Microsoft follows their previous investments \\\n",
    "                in 2019 and 2021, and will allow us to continue our independent research and develop AI that is \\\n",
    "                increasingly safe, useful, and powerful. \\n\\n \\\n",
    "                '\"\n",
    "\n",
    "response = client.chat.completions.create(\n",
    "    model=CHAT_COMPLETIONS_MODEL,\n",
    "    messages = [{\"role\":\"system\", \"content\":\"You are a helpful assistant.\"},\n",
    "                {\"role\":\"user\",\"content\":prompt,}],\n",
    "        max_tokens=400,)\n",
    "\n",
    "print(response.choices[0].message.content)\n",
    "\n"
   ]
  },
  {
   "attachments": {},
   "cell_type": "markdown",
   "metadata": {},
   "source": [
    "# 5. Start with zero-shot, then few-shot (example), neither of them worked, then fine-tune (To update)"
   ]
  },
  {
   "cell_type": "code",
   "execution_count": 10,
   "metadata": {},
   "outputs": [
    {
     "name": "stdout",
     "output_type": "stream",
     "text": [
      "OpenAI, Microsoft, partnership, investment, multi-year, multi-billion dollar, AI, independent research, safe, useful, powerful.\n"
     ]
    }
   ],
   "source": [
    "#THIS IS zero-shot\n",
    "\n",
    "response = client.chat.completions.create(\n",
    "    model=CHAT_COMPLETIONS_MODEL,\n",
    "    messages = [{\"role\":\"system\", \"content\":\"You are a helpful assistant. Extract keywords from the corresponding texts below.\"},\n",
    "                {\"role\":\"user\",\"content\": 'Text: \\n\\\n",
    "            We’re happy to announce that OpenAI and Microsoft are extending our partnership.\\\n",
    "            This multi-year, multi-billion dollar investment from Microsoft follows their previous investments \\\n",
    "            in 2019 and 2021, and will allow us to continue our independent research and develop AI that is \\\n",
    "            increasingly safe, useful, and powerful. \\n\\nKeywords:    ',}],\n",
    "        max_tokens=400,)\n",
    "\n",
    "print(response.choices[0].message.content)\n",
    "\n"
   ]
  },
  {
   "cell_type": "code",
   "execution_count": 13,
   "metadata": {},
   "outputs": [
    {
     "name": "stdout",
     "output_type": "stream",
     "text": [
      "OpenAI, Microsoft, partnership, multi-year investment, multi-billion dollar, independent research, AI, safe, useful, powerful.\n"
     ]
    }
   ],
   "source": [
    "#Few Shot learning\n",
    "\n",
    "\n",
    "# Escribir las instrucciones para que el modelo extraiga palabras clave del texto, y formatee la salida como listas separadas por comas.\n",
    "\n",
    "instrucctiones = \"Extraeme palabras clave de los textos correspondientes. Genera la salida como listas separadas por comas.\"\n",
    "\n",
    "prompt = f\"{instrucctiones} \\\n",
    "                Text: Stripe provides APIs that web developers can use to integrate \\\n",
    "                payment processing into their websites and mobile applications. \\\n",
    "                Keywords: Stripe, payment processing, APIs, web developers, websites, mobile applications \\\n",
    "                ###\\n\\\n",
    "                Text: OpenAI has trained cutting-edge language models that are very good at understanding \\\n",
    "                and generating text. Our API provides access to these models and can be used to solve virtually \\\n",
    "                any task that involves processing language. \\n\\\n",
    "                Keywords: language models, text processing, API.\\n\\n\\\n",
    "                ##W\"\n",
    "\n",
    "response = client.chat.completions.create(\n",
    "    model=CHAT_COMPLETIONS_MODEL,\n",
    "    messages = [{\"role\":\"system\", \"content\":prompt},\n",
    "                {\"role\":\"user\",\"content\": '\\n\\\n",
    "                Text: We’re happy to announce that OpenAI and Microsoft are extending our partnership.\\\n",
    "                This multi-year, multi-billion dollar investment from Microsoft follows their previous investments \\\n",
    "                in 2019 and 2021, and will allow us to continue our independent research and develop AI that is \\\n",
    "                increasingly safe, useful, and powerful. \\n\\n\\\n",
    "                Keywords:',}],\n",
    "        max_tokens=400,)\n",
    "\n",
    "print(response.choices[0].message.content)\n",
    "\n"
   ]
  },
  {
   "attachments": {},
   "cell_type": "markdown",
   "metadata": {},
   "source": [
    "# 6. Reduce “fluffy” and imprecise descriptions"
   ]
  },
  {
   "cell_type": "code",
   "execution_count": 14,
   "metadata": {},
   "outputs": [
    {
     "name": "stdout",
     "output_type": "stream",
     "text": [
      "Introducing the NextGen Car Seat, where safety meets innovation. Designed with advanced impact protection technology and ergonomic support, this car seat adapts as your child grows, ensuring maximum comfort and security from infancy to toddlerhood. Its sleek, modern design and easy-install features make every journey a breeze, while breathable materials keep your little one cool and cozy. Drive with peace of mind knowing your child is protected in style!\n"
     ]
    }
   ],
   "source": [
    "response = client.chat.completions.create(\n",
    "    model=CHAT_COMPLETIONS_MODEL,\n",
    "    messages = [{\"role\":\"system\", \"content\":\"You are a helpful assistant.\"},\n",
    "                {\"role\":\"user\",\"content\": 'Write a description for a new product. This product is a new generation of car seat. \\\n",
    "                The description for this product should be fairly short, a few sentences only, and not too much more.',}],\n",
    "        max_tokens=400,)\n",
    "\n",
    "print(response.choices[0].message.content)\n",
    "\n"
   ]
  },
  {
   "cell_type": "code",
   "execution_count": 15,
   "metadata": {},
   "outputs": [
    {
     "name": "stdout",
     "output_type": "stream",
     "text": [
      "Introducing the next generation of car seats, the SafeJourney Pro – a revolutionary blend of safety, comfort, and technology. Crafted with advanced impact-absorbing materials, this car seat ensures maximum protection for your child during every journey. Featuring an intuitive installation system and adjustable settings, the SafeJourney Pro grows with your child, accommodating them from infancy to toddlerhood. Enhanced with smart technology, it provides real-time monitoring and alerts, ensuring peace of mind for parents on the go. Experience the perfect harmony of design and innovation with the SafeJourney Pro, where every ride is a safe adventure.\n"
     ]
    }
   ],
   "source": [
    "response = client.chat.completions.create(\n",
    "    model=CHAT_COMPLETIONS_MODEL,\n",
    "    messages = [{\"role\":\"system\", \"content\":\"You are a helpful assistant.\"},\n",
    "                {\"role\":\"user\",\"content\": 'Write a description for a new product. This product is a new generation of car seat. \\\n",
    "                Use a 3 to 5 sentence paragraph to describe this product.',}],\n",
    "        max_tokens=400,)\n",
    "\n",
    "print(response.choices[0].message.content)\n",
    "\n"
   ]
  },
  {
   "attachments": {},
   "cell_type": "markdown",
   "metadata": {},
   "source": [
    "# 7. Instead of just saying what not to do, say what to do instead"
   ]
  },
  {
   "cell_type": "code",
   "execution_count": 16,
   "metadata": {},
   "outputs": [
    {
     "name": "stdout",
     "output_type": "stream",
     "text": [
      "I'm sorry to hear that you're having trouble logging in. Can you describe what happens when you try to log in?\n"
     ]
    }
   ],
   "source": [
    "response = client.chat.completions.create(\n",
    "    model=CHAT_COMPLETIONS_MODEL,\n",
    "    messages = [{\"role\":\"system\", \"content\":\"You are a helpful assistant.\"},\n",
    "                {\"role\":\"user\",\"content\": 'The following is a conversation between an Agent and a Customer. DO NOT ASK USERNAME OR PASSWORD. DO NOT REPEAT. \\n\\n\\\n",
    "                Customer: I can’t log in to my account.\\n\\\n",
    "                Agent:',}],\n",
    "        max_tokens=400,)\n",
    "\n",
    "print(response.choices[0].message.content)\n"
   ]
  },
  {
   "cell_type": "code",
   "execution_count": 17,
   "metadata": {},
   "outputs": [
    {
     "name": "stdout",
     "output_type": "stream",
     "text": [
      "I'm sorry to hear that you're having trouble logging in to your account. There can be several reasons for login issues, such as incorrect passwords or account settings. I recommend checking our help article at www.samplewebsite.com/help/faq for troubleshooting tips that might help you resolve this issue. If you need further assistance after reviewing the article, please let me know!\n"
     ]
    }
   ],
   "source": [
    "response = client.chat.completions.create(\n",
    "    model=CHAT_COMPLETIONS_MODEL,\n",
    "    messages = [{\"role\":\"system\", \"content\":\"You are a helpful assistant.\"},\n",
    "                {\"role\":\"user\",\"content\":'The following is a conversation between an Agent and a Customer. The agent will attempt to diagnose the \\\n",
    "                problem and suggest a solution, whilst refraining from asking any questions related to PII. \\\n",
    "                Instead of asking for PII, such as username or password, refer the user to the help \\\n",
    "                article www.samplewebsite.com/help/faq \\n\\n\\\n",
    "                Customer: I can’t log in to my account. \\n\\\n",
    "                Agent:',}],\n",
    "        max_tokens=400,)\n",
    "\n",
    "print(response.choices[0].message.content)\n"
   ]
  },
  {
   "attachments": {},
   "cell_type": "markdown",
   "metadata": {},
   "source": [
    "# 8. Code Generation Specific - Use “leading words” to nudge the model toward a particular pattern"
   ]
  },
  {
   "cell_type": "code",
   "execution_count": 19,
   "metadata": {},
   "outputs": [
    {
     "name": "stdout",
     "output_type": "stream",
     "text": [
      "Por supuesto. Elige un número en millas y lo convertiré a kilómetros. Por ejemplo, si me das el número 10, el resultado será:\n",
      "\n",
      "16.09 kilómetros  \n",
      "10 millas\n",
      "\n",
      "Por favor, indícame el número en millas que deseas convertir.\n"
     ]
    }
   ],
   "source": [
    "# Escribir las instrucciones para crear una función simple en Python que:\n",
    "# 1. Pida un número en millas.\n",
    "# 2. Convierta las millas a kilómetros.\n",
    "\n",
    "prompt = \"Dame un número en millas y conviertemelas a kilometros \\\n",
    "          dame la salida solo de los kilometros y abajo de las millas \"\n",
    "\n",
    "response = client.chat.completions.create(\n",
    "    model=CHAT_COMPLETIONS_MODEL,\n",
    "    messages = [{\"role\":\"system\", \"content\":\"You are a helpful assistant.\"},\n",
    "                {\"role\":\"user\",\"content\":prompt,}],\n",
    "        max_tokens=400,)\n",
    "\n",
    "print(response.choices[0].message.content)\n"
   ]
  },
  {
   "cell_type": "markdown",
   "metadata": {},
   "source": [
    "## Ejercicio 1: Estructuración de Prompts con Separadores\n",
    "\n",
    "Instrucciones: Escribe un prompt que solicite a la IA resumir el siguiente texto en una lista de puntos clave. Asegúrate de usar separadores claros (### o \"\"\").\n",
    "\n",
    "Texto:\n",
    "OpenAI y Microsoft han ampliado su colaboración. Microsoft está invirtiendo miles de millones de dólares durante varios años. Esta inversión permitirá que OpenAI continúe investigando de forma independiente y desarrolle IA segura y útil. OpenAI sigue siendo una empresa de beneficios limitados, regida por su organización sin fines de lucro.\n"
   ]
  },
  {
   "cell_type": "code",
   "execution_count": 22,
   "metadata": {},
   "outputs": [
    {
     "name": "stdout",
     "output_type": "stream",
     "text": [
      "Por supuesto, pero necesitaré que me proporciones el texto que deseas que resuma. ¿Puedes compartirlo, por favor?\n"
     ]
    }
   ],
   "source": [
    "\n",
    "response = client.chat.completions.create(\n",
    "    model=CHAT_COMPLETIONS_MODEL,\n",
    "    messages = [{\"role\":\"system\", \"content\":\"You are a helpful assistant.\"},\n",
    "                {\"role\":\"user\",\"content\": \"Reume el texto en una lista de puntos claves ###\"}],\n",
    "    max_tokens=400,\n",
    ")\n",
    "\n",
    "print(response.choices[0].message.content)\n",
    "\n"
   ]
  },
  {
   "cell_type": "markdown",
   "metadata": {},
   "source": [
    "## Ejercicio 2: Descripción Detallada del Formato Deseado\n",
    "\n",
    "Instrucciones: Escribe un prompt para que la IA extraiga nombres de empresas y años del siguiente texto. Indica explícitamente que se desea el resultado en formato JSON con índices de inicio y fin.\n",
    "\n",
    "Texto:\n",
    "OpenAI y Microsoft han colaborado desde 2019, con inversiones adicionales en 2021 para desarrollar nuevas soluciones de IA.\n",
    "\n",
    "Formato de salida deseado:\n",
    "\n",
    "{\"text\": \"OpenAI\", \"start\": 0, \"end\": 6}\n",
    "{\"text\": \"Microsoft\", \"start\": 10, \"end\": 19}\n",
    "{\"text\": \"2019\", \"start\": 35, \"end\": 39}\n",
    "{\"text\": \"2021\", \"start\": 50, \"end\": 54}"
   ]
  },
  {
   "cell_type": "code",
   "execution_count": 23,
   "metadata": {},
   "outputs": [
    {
     "name": "stdout",
     "output_type": "stream",
     "text": [
      "Nombres de la empresa: OpenAI, Microsoft  \n",
      "Años: 2019, 2021\n"
     ]
    }
   ],
   "source": [
    "response = client.chat.completions.create(\n",
    "    model=CHAT_COMPLETIONS_MODEL,\n",
    "    messages = [{\"role\":\"system\", \"content\":\"You are an entity extraction assistant.\"},\n",
    "                {\"role\":\"user\",\"content\": \"Extraeme los nombres de la mpresa y los años del texto ###\\\n",
    "                 OpenAI y Microsoft han colaborado desde 2019, con inversiones adicionales en 2021 para desarrollar nuevas soluciones de IA\"}],\n",
    "    max_tokens=400,\n",
    ")\n",
    "\n",
    "print(response.choices[0].message.content)\n"
   ]
  },
  {
   "cell_type": "markdown",
   "metadata": {},
   "source": [
    "## Ejercicio 3: Generación de Texto Inspirador\n",
    "\n",
    "Instrucciones: Redacta un prompt que solicite a la IA escribir un poema inspirador. Escribe un poema corto sobre la colaboración entre OpenAI y Microsoft.\n"
   ]
  },
  {
   "cell_type": "code",
   "execution_count": 24,
   "metadata": {},
   "outputs": [
    {
     "name": "stdout",
     "output_type": "stream",
     "text": [
      "En la danza de bits y bytes,  \n",
      "dos mentes se unen en la creación,  \n",
      "OpenAI y Microsoft, un faro brillante,  \n",
      "tejiendo sueños de innovación.  \n",
      "\n",
      "Inteligencia que vuela,  \n",
      "conectando corazones en red,  \n",
      "la tecnología abraza al hombre,  \n",
      "donde el futuro ya es un deber.  \n",
      "\n",
      "Codo a codo, ¡qué sinfonía!  \n",
      "El código se vuelve poesía,  \n",
      "en la colaboración que florece,  \n",
      "un mundo nuevo se establece.  \n",
      "\n",
      "Alma de máquina y humanidad,  \n",
      "juntos forjando claridad,  \n",
      "en este viaje de exploración,  \n",
      "OpenAI y Microsoft, unión de visión.\n"
     ]
    }
   ],
   "source": [
    "response = client.chat.completions.create(\n",
    "    model=CHAT_COMPLETIONS_MODEL,\n",
    "    messages = [{\"role\":\"system\", \"content\":\"You are a creative assistant.\"},\n",
    "                {\"role\":\"user\",\"content\": \"escribeme un poema corto sobre la colaboracion entre OpenAi  y Microsoft\"}],\n",
    "    max_tokens=400,\n",
    ")\n",
    "\n",
    "print(response.choices[0].message.content)"
   ]
  },
  {
   "cell_type": "markdown",
   "metadata": {},
   "source": [
    "## Ejercicio 4: Extracción de Entidades Clave\n",
    "\n",
    "Instrucciones: Escribe un prompt que pida a la IA extraer nombres de empresas, años, temas específicos y temas generales del siguiente texto:\n",
    "\n",
    "Texto:\n",
    "OpenAI y Microsoft han trabajado juntos desde 2019 y reforzaron su colaboración en 2021\n",
    "\n",
    "Formato esperado:\n",
    "\n",
    "Company names: OpenAI, Microsoft  \n",
    "Years: 2019, 2021  \n",
    "Specific topics: colaboración  \n",
    "General themes: asociación, tecnología, inteligencia artificial \n",
    "\n"
   ]
  },
  {
   "cell_type": "code",
   "execution_count": 29,
   "metadata": {},
   "outputs": [
    {
     "name": "stdout",
     "output_type": "stream",
     "text": [
      "**Nombres de las empresas:**\n",
      "- OpenAI\n",
      "- Microsoft\n",
      "\n",
      "**Años:**\n",
      "- 2019\n",
      "- 2021\n",
      "\n",
      "**Temas específicos:**\n",
      "- Colaboración entre OpenAI y Microsoft\n",
      "\n",
      "**Temas generales:**\n",
      "- Alianzas empresariales\n",
      "- Innovación tecnológica\n"
     ]
    }
   ],
   "source": [
    "response = client.chat.completions.create(\n",
    "    model=CHAT_COMPLETIONS_MODEL,\n",
    "    messages = [{\"role\":\"system\", \"content\":\"You are an entity and theme extraction assistant.\"},\n",
    "                {\"role\":\"user\",\"content\": \"Extraeme los nombres de las empresas, los años, los temas específicos y los temas generales del texto.\\\n",
    "OpenAI y Microsoft han trabajado juntos desde 2019 y reforzaron su colaboración en 2021\"}],\n",
    "    max_tokens=400,\n",
    ")\n",
    "\n",
    "print(response.choices[0].message.content)\n"
   ]
  },
  {
   "cell_type": "markdown",
   "metadata": {},
   "source": [
    "## Ejercicio 5: Descripciones Concisas de Productos\n",
    "\n",
    "Instrucciones: Escribe un prompt para que la IA describa un nuevo tipo de mochila tecnológica en menos de 4 líneas. La mochila tiene cargador solar, materiales resistentes al agua y un diseño ergonómico.\n",
    "\n"
   ]
  },
  {
   "cell_type": "code",
   "execution_count": 31,
   "metadata": {},
   "outputs": [
    {
     "name": "stdout",
     "output_type": "stream",
     "text": [
      "Presentamos la mochila EcoCharge: diseñada con un cargador solar integrado, perfecto para mantener tus dispositivos siempre cargados. Sus materiales resistentes al agua garantizan la protección de tus pertenencias en cualquier clima, combinando funcionalidad y estilo. Ideal para aventureros y viajeros urbanos.\n"
     ]
    }
   ],
   "source": [
    "response = client.chat.completions.create(\n",
    "    model=CHAT_COMPLETIONS_MODEL,\n",
    "    messages = [{\"role\":\"system\", \"content\":\"You are a marketing assistant.\"},\n",
    "                {\"role\":\"user\",\"content\": \"describe un nuevo tipo de mochila que tiene cargador solar,materiales resistentes al agua en menos de 4 lineas\" }],\n",
    "    max_tokens=400,\n",
    ")\n",
    "\n",
    "print(response.choices[0].message.content)\n"
   ]
  }
 ],
 "metadata": {
  "kernelspec": {
   "display_name": "Python 3",
   "language": "python",
   "name": "python3"
  },
  "language_info": {
   "codemirror_mode": {
    "name": "ipython",
    "version": 3
   },
   "file_extension": ".py",
   "mimetype": "text/x-python",
   "name": "python",
   "nbconvert_exporter": "python",
   "pygments_lexer": "ipython3",
   "version": "3.13.0"
  }
 },
 "nbformat": 4,
 "nbformat_minor": 4
}
